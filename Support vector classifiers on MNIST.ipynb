{
 "cells": [
  {
   "cell_type": "markdown",
   "metadata": {},
   "source": [
    "## Assignment 4\n",
    "### CS156, Fall 2019\n",
    "#### Berfin Karaman"
   ]
  },
  {
   "cell_type": "code",
   "execution_count": 160,
   "metadata": {},
   "outputs": [],
   "source": [
    "#importing the libraries\n",
    "from sklearn.metrics import accuracy_score\n",
    "import time\n",
    "from sklearn import svm\n",
    "from sklearn.datasets import fetch_openml\n",
    "import numpy as np\n",
    "import warnings\n",
    "warnings.filterwarnings(\"ignore\")\n",
    "from sklearn.model_selection  import train_test_split as split"
   ]
  },
  {
   "cell_type": "code",
   "execution_count": 172,
   "metadata": {},
   "outputs": [],
   "source": [
    "#fetching the data from the fetch_openml\n",
    "\n",
    "mnist = fetch_openml('mnist_784', version=1, cache=True)\n",
    "\n",
    "x_set = mnist[\"data\"]\n",
    "y_set = mnist[\"target\"]\n"
   ]
  },
  {
   "cell_type": "code",
   "execution_count": 173,
   "metadata": {},
   "outputs": [
    {
     "name": "stdout",
     "output_type": "stream",
     "text": [
      "(70000, 784)\n",
      "(70000,)\n"
     ]
    }
   ],
   "source": [
    "print(x_set.shape)\n",
    "print(y_set.shape)"
   ]
  },
  {
   "cell_type": "code",
   "execution_count": 174,
   "metadata": {},
   "outputs": [],
   "source": [
    "#chosing the digits 7 and 1\n",
    "digits = np.where((y_set == \"1\") | (y_set == \"7\"))\n",
    "x_set, y_set = x_set[digits], y_set[digits]\n"
   ]
  },
  {
   "cell_type": "code",
   "execution_count": 175,
   "metadata": {},
   "outputs": [],
   "source": [
    "#since there is  15170 data points, I will use the half  due to computational limitations (explained in\n",
    "# evaluation)\n",
    "\n",
    "x_set = x_set[:7000]\n",
    "y_set=y_set[:7000]\n"
   ]
  },
  {
   "cell_type": "code",
   "execution_count": 176,
   "metadata": {},
   "outputs": [],
   "source": [
    "#splitting the data\n",
    "x_train, x_test, y_train, y_test = split(x_set, y_set, test_size=0.2)\n"
   ]
  },
  {
   "cell_type": "code",
   "execution_count": 177,
   "metadata": {},
   "outputs": [
    {
     "name": "stdout",
     "output_type": "stream",
     "text": [
      "Training time for linear kernel when C = 0.1 : 0.78 sec\n",
      "Error rate for linear kernel when C = 0.1 is 0.004285714285714337\n",
      "Training time for linear kernel when C = 1 : 0.79 sec\n",
      "Error rate for linear kernel when C = 1 is 0.004285714285714337\n",
      "Training time for linear kernel when C = 10 : 0.80 sec\n",
      "Error rate for linear kernel when C = 10 is 0.004285714285714337\n"
     ]
    }
   ],
   "source": [
    "#Train a support vector classifier with linear kernel\n",
    "#creating a for loop to try different C values to understand which value gives more accurate results\n",
    "\n",
    "for i in [0.1, 1, 10]:\n",
    "    clf = svm.SVC(kernel='linear', C=i) \n",
    "    initial = time.time()\n",
    "    clf.fit(x_train, y_train)\n",
    "    final = time.time()\n",
    "    print(\"Training time for linear kernel when C =\", i ,\":\", '%.2f'%(final - initial), \"sec\")  \n",
    "\n",
    "    #error rate\n",
    "    pred = clf.predict(x_test)\n",
    "    err_rate = 1 - accuracy_score(y_test, pred)\n",
    "    print(\"Error rate for linear kernel when C =\", i ,\"is\", err_rate)"
   ]
  },
  {
   "cell_type": "code",
   "execution_count": 178,
   "metadata": {},
   "outputs": [
    {
     "name": "stdout",
     "output_type": "stream",
     "text": [
      "Training time for poly kernel when C = 0.1 and degree = 1 : 0.81 sec\n",
      "Error rate for poly kernel when C = 0.1 and degree = 1 is 0.004285714285714337\n",
      "Training time for poly kernel when C = 0.1 and degree = 2 : 1.02 sec\n",
      "Error rate for poly kernel when C = 0.1 and degree = 2 is 0.0035714285714285587\n",
      "Training time for poly kernel when C = 0.1 and degree = 3 : 1.19 sec\n",
      "Error rate for poly kernel when C = 0.1 and degree = 3 is 0.004285714285714337\n",
      "Training time for poly kernel when C = 0.1 and degree = 4 : 1.36 sec\n",
      "Error rate for poly kernel when C = 0.1 and degree = 4 is 0.007857142857142896\n",
      "Training time for poly kernel when C = 0.1 and degree = 5 : 1.49 sec\n",
      "Error rate for poly kernel when C = 0.1 and degree = 5 is 0.011428571428571455\n",
      "Training time for poly kernel when C = 1 and degree = 1 : 0.79 sec\n",
      "Error rate for poly kernel when C = 1 and degree = 1 is 0.004285714285714337\n",
      "Training time for poly kernel when C = 1 and degree = 2 : 0.96 sec\n",
      "Error rate for poly kernel when C = 1 and degree = 2 is 0.0035714285714285587\n",
      "Training time for poly kernel when C = 1 and degree = 3 : 1.15 sec\n",
      "Error rate for poly kernel when C = 1 and degree = 3 is 0.004285714285714337\n",
      "Training time for poly kernel when C = 1 and degree = 4 : 1.27 sec\n",
      "Error rate for poly kernel when C = 1 and degree = 4 is 0.007857142857142896\n",
      "Training time for poly kernel when C = 1 and degree = 5 : 1.53 sec\n",
      "Error rate for poly kernel when C = 1 and degree = 5 is 0.011428571428571455\n",
      "Training time for poly kernel when C = 10 and degree = 1 : 0.76 sec\n",
      "Error rate for poly kernel when C = 10 and degree = 1 is 0.004285714285714337\n",
      "Training time for poly kernel when C = 10 and degree = 2 : 1.01 sec\n",
      "Error rate for poly kernel when C = 10 and degree = 2 is 0.0035714285714285587\n",
      "Training time for poly kernel when C = 10 and degree = 3 : 1.12 sec\n",
      "Error rate for poly kernel when C = 10 and degree = 3 is 0.004285714285714337\n",
      "Training time for poly kernel when C = 10 and degree = 4 : 1.32 sec\n",
      "Error rate for poly kernel when C = 10 and degree = 4 is 0.007857142857142896\n",
      "Training time for poly kernel when C = 10 and degree = 5 : 1.49 sec\n",
      "Error rate for poly kernel when C = 10 and degree = 5 is 0.011428571428571455\n"
     ]
    }
   ],
   "source": [
    "#Train a support vector classifier with polynomial kernel\n",
    "#creating a for loop to try different C values and degrees of polynomial\n",
    "#to understand which value gives more accurate results\n",
    "\n",
    "for i in [0.1, 1, 10]:\n",
    "    for j in [1, 2, 3, 4, 5]:\n",
    "        clf = svm.SVC(kernel='poly', C=i, degree=j) \n",
    "        initial = time.time()\n",
    "        clf.fit(x_train, y_train)\n",
    "        final = time.time()\n",
    "        print(\"Training time for poly kernel when C =\", i ,\"and degree =\",j, \":\", '%.2f'%(final - initial), \"sec\")  \n",
    "\n",
    "        #error rate\n",
    "        pred = clf.predict(x_test)\n",
    "        err_rate = 1 - accuracy_score(y_test, pred)\n",
    "        print(\"Error rate for poly kernel when C =\", i ,\"and degree =\",j,\"is\", err_rate)"
   ]
  },
  {
   "cell_type": "code",
   "execution_count": 179,
   "metadata": {},
   "outputs": [
    {
     "name": "stdout",
     "output_type": "stream",
     "text": [
      "Training time for rbf kernel when C = 0.1 and gamma = 0.01 : 29.09 sec\n",
      "Error rate for rbf kernel when C = 0.1 and gamma = 0.01 is 0.48571428571428577\n",
      "Training time for rbf kernel when C = 0.1 and gamma = 0.1 : 31.13 sec\n",
      "Error rate for rbf kernel when C = 0.1 and gamma = 0.1 is 0.48571428571428577\n",
      "Training time for rbf kernel when C = 0.1 and gamma = 1 : 29.96 sec\n",
      "Error rate for rbf kernel when C = 0.1 and gamma = 1 is 0.48571428571428577\n",
      "Training time for rbf kernel when C = 0.1 and gamma = 10 : 30.17 sec\n",
      "Error rate for rbf kernel when C = 0.1 and gamma = 10 is 0.48571428571428577\n",
      "Training time for rbf kernel when C = 1 and gamma = 0.01 : 29.03 sec\n",
      "Error rate for rbf kernel when C = 1 and gamma = 0.01 is 0.48571428571428577\n",
      "Training time for rbf kernel when C = 1 and gamma = 0.1 : 29.51 sec\n",
      "Error rate for rbf kernel when C = 1 and gamma = 0.1 is 0.48571428571428577\n",
      "Training time for rbf kernel when C = 1 and gamma = 1 : 31.53 sec\n",
      "Error rate for rbf kernel when C = 1 and gamma = 1 is 0.48571428571428577\n",
      "Training time for rbf kernel when C = 1 and gamma = 10 : 31.64 sec\n",
      "Error rate for rbf kernel when C = 1 and gamma = 10 is 0.48571428571428577\n",
      "Training time for rbf kernel when C = 10 and gamma = 0.01 : 30.27 sec\n",
      "Error rate for rbf kernel when C = 10 and gamma = 0.01 is 0.48571428571428577\n",
      "Training time for rbf kernel when C = 10 and gamma = 0.1 : 30.80 sec\n",
      "Error rate for rbf kernel when C = 10 and gamma = 0.1 is 0.48571428571428577\n",
      "Training time for rbf kernel when C = 10 and gamma = 1 : 31.35 sec\n",
      "Error rate for rbf kernel when C = 10 and gamma = 1 is 0.48571428571428577\n",
      "Training time for rbf kernel when C = 10 and gamma = 10 : 30.87 sec\n",
      "Error rate for rbf kernel when C = 10 and gamma = 10 is 0.48571428571428577\n"
     ]
    }
   ],
   "source": [
    "#Train a support vector classifier with the RBF kernel\n",
    "#creating a for loop to try different C values and gamma values\n",
    "#to understand which value gives more accurate results\n",
    "\n",
    "for i in [0.1, 1, 10]:\n",
    "    for j in [0.01, 0.1, 1, 10]:\n",
    "        clf = svm.SVC(kernel='rbf', C=i, gamma=j) \n",
    "        initial = time.time()\n",
    "        clf.fit(x_train, y_train)\n",
    "        final = time.time()\n",
    "        print(\"Training time for rbf kernel when C =\", i ,\"and gamma =\",j, \":\", '%.2f'%(final - initial), \"sec\")  \n",
    "\n",
    "        #error rate\n",
    "        pred = clf.predict(x_test)\n",
    "        err_rate = 1 - accuracy_score(y_test, pred)\n",
    "        print(\"Error rate for rbf kernel when C =\", i ,\"and gamma =\",j,\"is\", err_rate)"
   ]
  },
  {
   "cell_type": "markdown",
   "metadata": {},
   "source": [
    "#### Evaluation of the results:\n",
    "\n",
    "Firstly, I wanted to use the whole dataset for the digits 1 and 7, which had 15170 data points. However, when I tried to run the code, it took around 5 minutes to run each iteration of the support vector classifier with the RBF kernel. Thus, I decided to use a subset of the original data to have printed results for each iteration. When I run the whole data set, the polynomial kernel with degree 3 was the best performing one with 0.0029 error rate and 4 seconds training time. However, I did not run all the iterations for the RBF kernel; thus, I would need to rerun the code with the subset data. I will have 7000 data points for the subset data.\n",
    "\n",
    "Based on the results on the error rate (0.0035 error rate), we can conclude that the support vector classifier with a polynomial kernel and degree 2 performs better than the other models. Additionally, the training time that is required for the polynomial kernel with degree 2 is around 1 second, which is only 0.2 seconds more than the best training time that we received (0.78 with the linear kernel). Since it is advantageous for both error rate and training timing, we can confidently say that in this scenario, the polynomial kernel with degree 2 is more favorable when we use approximately half of the dataset. I observed that the best performing polynomial had a lower higher degree when we used half of the dataset. This makes sense because when we had a bigger data set, we might need a slightly more complex kernel for SVC.   \n",
    "\n",
    "The SVC with the RBF kernel performed the worst because it has an error rate of around 0.48 and in general, took 30 times more training time than the linear and polynomial kernel. One of the reasons why the RBF kernel performed poorly might be that the RBF kernel is more suitable for non-linearly separable data. Since we had 0.004 error rate with the linear kernel, we can say that the dataset we have is fairly linearly separable.  \n",
    "\n",
    "\n"
   ]
  }
 ],
 "metadata": {
  "kernelspec": {
   "display_name": "Python 3",
   "language": "python",
   "name": "python3"
  },
  "language_info": {
   "codemirror_mode": {
    "name": "ipython",
    "version": 3
   },
   "file_extension": ".py",
   "mimetype": "text/x-python",
   "name": "python",
   "nbconvert_exporter": "python",
   "pygments_lexer": "ipython3",
   "version": "3.7.3"
  }
 },
 "nbformat": 4,
 "nbformat_minor": 2
}
